{
 "cells": [
  {
   "cell_type": "code",
   "execution_count": 19,
   "metadata": {},
   "outputs": [],
   "source": [
    "import numpy as np\n",
    "import networkx as nx\n",
    "import gmatch4py as gm\n",
    "import pickle\n",
    "import os\n",
    "import h5py\n",
    "from shutil import copyfile\n",
    "import matplotlib.pyplot as plt\n",
    "\n",
    "%matplotlib inline"
   ]
  },
  {
   "cell_type": "code",
   "execution_count": null,
   "metadata": {},
   "outputs": [],
   "source": [
    "def evaluate(g1, g2):\n",
    "    ged = gm.GraphEditDistance(1,1,1,1) # all edit costs are equal to 1\n",
    "    result=ged.compare([g1,g2], None)\n",
    "    return ged.similarity(result), ged.distance(result)"
   ]
  },
  {
   "cell_type": "code",
   "execution_count": null,
   "metadata": {},
   "outputs": [],
   "source": [
    "def save_obj(out_path, obj, name ):\n",
    "    with open(os.path.join(out_path, 'results/'+ name + '.pkl'), 'wb') as f:\n",
    "        pickle.dump(obj, f, pickle.HIGHEST_PROTOCOL)\n",
    "\n",
    "def load_obj(in_path, name):\n",
    "    with open(os.path.join(in_path, 'results/'+ name + '.pkl'), 'rb') as f:\n",
    "        return pickle.load(f)"
   ]
  },
  {
   "cell_type": "code",
   "execution_count": null,
   "metadata": {},
   "outputs": [],
   "source": [
    "def test():\n",
    "    g1 = nx.complete_bipartite_graph(5,4)\n",
    "    g2 = nx.complete_bipartite_graph(6,4)\n",
    "    similarity, distance = evaluate(g1, g2)\n",
    "    print(similarity)\n",
    "    print(distance)"
   ]
  },
  {
   "cell_type": "code",
   "execution_count": null,
   "metadata": {},
   "outputs": [],
   "source": [
    "# gt_path = '/var/www/html/donglai/abhi/gt_pyr/'\n",
    "# pd_path = '/var/www/html/abhi/pyr_summary/networkx/'\n",
    "gt_path = '/var/www/html/abhi/mito_summary/mito_gt'\n",
    "pd_path = '/var/www/html/abhi/mito_summary/networkx_objs'"
   ]
  },
  {
   "cell_type": "code",
   "execution_count": null,
   "metadata": {},
   "outputs": [],
   "source": [
    "def GetWeightLess(G):\n",
    "    G1 = nx.Graph()\n",
    "    for e in G.edges:\n",
    "        G1.add_edge(e[0], e[1])\n",
    "    return G1"
   ]
  },
  {
   "cell_type": "code",
   "execution_count": null,
   "metadata": {},
   "outputs": [],
   "source": [
    "def PrintSummary(G):\n",
    "    print('Summary')\n",
    "    for e in zip(G.edges, G.edges.values()):\n",
    "        edge_ = 'Edge({}, {})'.format(e[0][0], e[0][1])\n",
    "        wt_ = 'Weight: {:.2f}'.format(e[1]['weight'])\n",
    "        print(edge_ + ' '*(20 - len(edge_)) + wt_)"
   ]
  },
  {
   "cell_type": "code",
   "execution_count": null,
   "metadata": {},
   "outputs": [],
   "source": [
    "similarity_dict, distance_dict = {}, {}\n",
    "gt_fnames = os.listdir(gt_path)\n",
    "graph_ids = []\n",
    "for fname in gt_fnames:\n",
    "    if '.obj' in fname:\n",
    "        id_ = fname.replace('cell', '').replace('.obj', '')\n",
    "        graph_ids += [int(id_)]\n",
    "        gt_obj = nx.read_gpickle(os.path.join(gt_path, fname))\n",
    "        L_gt = nx.spectrum.laplacian_spectrum(gt_objj)\n",
    "        print(len(L_gt), L_gt)\n",
    "        with open(os.path.join(pd_path, '{}_networkx.obj'.format(id_)), 'rb') as f:\n",
    "            pd_obj = pickle.load(f, encoding='latin1')\n",
    "        L_pd = nx.spectrum.laplacian_spectrum(pd_obj)\n",
    "        print(len(L_pd), L_pd)\n",
    "        break\n",
    "#         pd_wtless = GetWeightLess(pd_obj)\n",
    "#         similarity, distance = evaluate(gt_obj, pd_wtless)\n",
    "        similarity_dict[int(id_)] = similarity\n",
    "        distance_dict[int(id_)] = distance\n",
    "        print('Done ID {}'.format(id_))\n",
    "        \n",
    "save_obj(pd_path, similarity_dict, 'similarity')\n",
    "save_obj(pd_path, distance_dict, 'distance')"
   ]
  },
  {
   "cell_type": "code",
   "execution_count": null,
   "metadata": {},
   "outputs": [],
   "source": [
    "s = load_obj(pd_path, 'similarity')"
   ]
  },
  {
   "cell_type": "code",
   "execution_count": null,
   "metadata": {},
   "outputs": [],
   "source": [
    "# store gt mitos in a place\n",
    "mito_gt_path = '/var/www/html/abhi/mito_summary/mito_gt/'"
   ]
  },
  {
   "cell_type": "code",
   "execution_count": null,
   "metadata": {},
   "outputs": [],
   "source": [
    "# read edges for redo mitos\n",
    "gt_dir = '/var/www/html/abhi/mito_summary/mito_gt'\n",
    "edge_path = '/var/www/html/donglai/abhi/mito_redo/gt-0403'\n",
    "files_ = os.listdir(edge_path)\n",
    "\n",
    "for fn in files_:\n",
    "    if '.txt' in fn:\n",
    "        fpath = os.path.join(edge_path, fn)\n",
    "        try:\n",
    "            dd = np.loadtxt(fpath, delimiter=',').astype(int)\n",
    "            G = nx.from_edgelist(dd.tolist())\n",
    "            nx.write_gpickle(G, os.path.join(gt_dir, fn.replace('.txt', '.obj')))\n",
    "        except:\n",
    "            continue"
   ]
  },
  {
   "cell_type": "code",
   "execution_count": null,
   "metadata": {},
   "outputs": [],
   "source": [
    "# # copy good mitos to gt folder\n",
    "# gt_dir = '/var/www/html/abhi/mito_summary/mito_gt'\n",
    "# good_file = '/var/www/html/donglai/abhi/mito_redo/good.txt'\n",
    "\n",
    "# files_ = np.loadtxt(good_file, delimiter=' ').astype(int)\n",
    "\n",
    "# pd_path = '/var/www/html/abhi/final_data/cell{}/networkx_v0/{}_networkx.obj'\n",
    "# copy_path = '/var/www/html/abhi/mito_summary/mito_gt/{}_{}.obj'\n",
    "\n",
    "# for i in range(files_.shape[0]):\n",
    "#     cell_id = files_[i][0]\n",
    "#     mito_id = files_[i][1]\n",
    "    \n",
    "#     src = pd_path.format(cell_id, mito_id)\n",
    "#     dst = copy_path.format(cell_id, mito_id)\n",
    "    \n",
    "#     copyfile(src, dst)"
   ]
  },
  {
   "cell_type": "markdown",
   "metadata": {},
   "source": [
    "# Mito Ablation Studies"
   ]
  },
  {
   "cell_type": "code",
   "execution_count": 59,
   "metadata": {},
   "outputs": [],
   "source": [
    "from sklearn.metrics.pairwise import cosine_similarity\n",
    "\n",
    "def GetLaplacianSpectrum(G):\n",
    "    return np.array(list(reversed(nx.spectrum.laplacian_spectrum(G, weight=None))))\n",
    "\n",
    "def MitoAblation(gt_path, pd_path, only_redo=False, verbose=True):\n",
    "#     similarity_dict, distance_dict = {}, {}\n",
    "    gt_fnames = os.listdir(gt_path)\n",
    "    graph_ids = []\n",
    "    similarities = []\n",
    "    redo_dir = '/var/www/html/donglai/abhi/mito_redo/gt-0403'\n",
    "    redo_files = os.listdir(redo_dir)\n",
    "    count_ = 0\n",
    "    for fname in gt_fnames:\n",
    "        if '.obj' in fname:\n",
    "            count_ += 1\n",
    "            cell_id = fname[0:2]\n",
    "            mito_id = fname[3:].replace('.obj', '')\n",
    "            id_ = cell_id + '_' + mito_id\n",
    "            \n",
    "            try:\n",
    "                #read ground truth\n",
    "                with open(os.path.join(gt_path, fname), 'rb') as f:\n",
    "                    gt_obj = pickle.load(f, encoding='latin1')\n",
    "\n",
    "                # read pred mito\n",
    "                with open(pd_path.format(cell_id, mito_id), 'rb') as f:\n",
    "                    pd_obj = pickle.load(f, encoding='latin1')\n",
    "            except:\n",
    "                continue\n",
    "            L_gt = GetLaplacianSpectrum(gt_obj)\n",
    "            L_pd = GetLaplacianSpectrum(pd_obj)\n",
    "            k = min(len(L_gt), len(L_pd))\n",
    "#             sim_ = np.linalg.norm(L_gt[:k] - L_pd[:k])\n",
    "            sim_ = cosine_similarity([L_gt[:k]], [L_pd[:k]])[0][0]\n",
    "#             break\n",
    "#             pd_wtless = GetWeightLess(pd_obj)\n",
    "#             try:\n",
    "#                 similarity, distance = evaluate(gt_obj, pd_wtless)\n",
    "#                 print('Done ID {}'.format(id_))\n",
    "#             except:\n",
    "#                 print('Error')\n",
    "#                 continue\n",
    "            if only_redo:\n",
    "                if id_ + '.txt' in redo_files:\n",
    "                    graph_ids += [id_]\n",
    "                    similarities += [sim_]\n",
    "            else:\n",
    "                graph_ids += [id_]\n",
    "                similarities += [sim_]\n",
    "#             similarity_dict[id_] = similarity\n",
    "#             distance_dict[id_] = distance\n",
    "            if count_ % 10 == 0 and not verbose:\n",
    "                print('Finished {} mitos'.format(count_))\n",
    "    return graph_ids, similarities"
   ]
  },
  {
   "cell_type": "code",
   "execution_count": 60,
   "metadata": {},
   "outputs": [],
   "source": [
    "# comparison with BFS+Jn+Loop+Threshold\n",
    "gt_path = '/var/www/html/abhi/mito_summary/mito_gt'\n",
    "pd_path = '/var/www/html/abhi/final_data/cell{}/' + 'networkx_v0/' + '{}_networkx.obj'\n",
    "\n",
    "graph_ids_bfs_thresh4_loop, similarities_bfs_thresh4_loop = MitoAblation(gt_path, pd_path, only_redo=False)"
   ]
  },
  {
   "cell_type": "code",
   "execution_count": 61,
   "metadata": {},
   "outputs": [],
   "source": [
    "# comparison with BFS+Jn+Loop+NoThreshold\n",
    "gt_path = '/var/www/html/abhi/mito_summary/mito_gt'\n",
    "pd_path = '/var/www/html/abhi/final_data/cell{}/' + 'networkx_0_thresh/' + '{}_networkx.obj'\n",
    "\n",
    "graph_ids_bfs_thresh0_loop, similarities_bfs_thresh0_loop = MitoAblation(gt_path, pd_path, only_redo=False)"
   ]
  },
  {
   "cell_type": "code",
   "execution_count": 62,
   "metadata": {},
   "outputs": [],
   "source": [
    "# comparison with BFS+Jn+NoLoop+Threshold\n",
    "gt_path = '/var/www/html/abhi/mito_summary/mito_gt'\n",
    "pd_path = '/var/www/html/abhi/final_data/cell{}/' + 'networkx_0_thresh_noloop/' + '{}_networkx.obj'\n",
    "\n",
    "graph_ids_bfs_thresh0_noloop, similarities_bfs_thresh0_noloop = MitoAblation(gt_path, pd_path, only_redo=False)"
   ]
  },
  {
   "cell_type": "code",
   "execution_count": 63,
   "metadata": {},
   "outputs": [],
   "source": [
    "# comparison with BFS+Jn+NoLoop+Threshold\n",
    "gt_path = '/var/www/html/abhi/mito_summary/mito_gt'\n",
    "pd_path = '/var/www/html/abhi/final_data/cell{}/' + 'networkx_4_thresh_noloop/' + '{}_networkx.obj'\n",
    "\n",
    "graph_ids_bfs_thresh4_noloop, similarities_bfs_thresh4_noloop = MitoAblation(gt_path, pd_path, only_redo=False)"
   ]
  },
  {
   "cell_type": "code",
   "execution_count": 65,
   "metadata": {},
   "outputs": [
    {
     "data": {
      "image/png": "[encoded data removed]",
      "text/plain": [
       "<Figure size 1080x792 with 4 Axes>"
      ]
     },
     "metadata": {
      "needs_background": "light"
     },
     "output_type": "display_data"
    }
   ],
   "source": [
    "import matplotlib.pyplot as plt\n",
    "fig, ax = plt.subplots(2,2)\n",
    "values_ = [similarities_bfs_thresh4_loop, similarities_bfs_thresh4_noloop, \\\n",
    "           similarities_bfs_thresh0_loop, similarities_bfs_thresh0_noloop]\n",
    "names_ = ['Preserve Loops, Threshold=4.0', 'No Loops, Threshold=4.0', \\\n",
    "          'Preserve Loops, Threshold=0.0', 'No Loops, Threshold=0.0']\n",
    "\n",
    "for i in range(4):\n",
    "    r = i // 2\n",
    "    c = i % 2\n",
    "    _ = ax[r,c].hist(values_[i], bins=10, color='red', edgecolor='black', linewidth=1.2)\n",
    "    _ = ax[r,c].set_xlabel('Cosine Similarity', fontsize=12, fontweight='bold')\n",
    "    _ = ax[r,c].set_ylabel('Count', fontsize=12, fontweight='bold')\n",
    "    _ = ax[r,c].set_title(names_[i], fontweight='bold', fontsize=14)\n",
    "    _ = ax[r,c].set_ylim(0,160)\n",
    "fig.suptitle('Cosine Similarity of Laplacian Eigenvalues for Mitochondria: Ground Truth vs. Reduced Graph', \\\n",
    "             fontweight='bold', fontsize=16)\n",
    "fig.set_size_inches(15, 11)\n",
    "fig.savefig('mito_ablation.png')"
   ]
  },
  {
   "cell_type": "markdown",
   "metadata": {},
   "source": [
    "# Pyramidal Cell Ablation Studies"
   ]
  },
  {
   "cell_type": "code",
   "execution_count": 28,
   "metadata": {},
   "outputs": [],
   "source": [
    "def PyramidAblation(gt_path, pd_path, only_redo=False, verbose=True):\n",
    "#     similarity_dict, distance_dict = {}, {}\n",
    "    gt_fnames = os.listdir(gt_path)\n",
    "    graph_ids = []\n",
    "    similarities = []\n",
    "    count_ = 0\n",
    "    for fname in gt_fnames:\n",
    "        if '.obj' in fname:\n",
    "            count_ += 1\n",
    "#             cell_id = fname[0:2]\n",
    "#             mito_id = fname[3:].replace('.obj', '')\n",
    "            id_ = fname.replace('cell', '').replace('.obj', '')\n",
    "            \n",
    "            try:\n",
    "                #read ground truth\n",
    "                with open(os.path.join(gt_path, fname), 'rb') as f:\n",
    "                    gt_obj = pickle.load(f, encoding='latin1')\n",
    "\n",
    "                # read pred mito\n",
    "                with open(pd_path.format(id_), 'rb') as f:\n",
    "                    pd_obj = pickle.load(f, encoding='latin1')\n",
    "            except:\n",
    "                continue\n",
    "            L_gt = GetLaplacianSpectrum(gt_obj)\n",
    "            L_pd = GetLaplacianSpectrum(pd_obj)\n",
    "            k = min(len(L_gt), len(L_pd))\n",
    "            sim_ = cosine_similarity([L_gt[:k]], [L_pd[:k]])[0][0]\n",
    "\n",
    "            if only_redo:\n",
    "                if id_ + '.txt' in redo_files:\n",
    "                    graph_ids += [id_]\n",
    "                    similarities += [sim_]\n",
    "            else:\n",
    "                graph_ids += [id_]\n",
    "                similarities += [sim_]\n",
    "            if count_ % 10 == 0 and not verbose:\n",
    "                print('Finished {} mitos'.format(count_))\n",
    "    return graph_ids, similarities"
   ]
  },
  {
   "cell_type": "code",
   "execution_count": 31,
   "metadata": {},
   "outputs": [
    {
     "name": "stdout",
     "output_type": "stream",
     "text": [
      "[5.52963389 5.14166186 4.98038597 4.85168469 4.73622854] [11.02633802  5.25026688  5.17846251  4.96475627  4.94815081]\n",
      "[5.42036712 5.31914394 5.11476641 4.90501914 4.79682268] [6.18544269 5.21181263 5.15388439 4.93134743 4.79046876]\n",
      "[5.47411521 5.34839429 5.06077354 4.95574526 4.7646032 ] [6.16930566 6.06148251 5.98817764 5.56915082 5.45359063]\n",
      "[5.30565896 5.1496307  4.63406474 4.45518052 3.98641814] [5.53641727 5.14642024 4.92075003 4.49588205 4.02153879]\n",
      "[5.86242875 5.3845997  5.30975063 5.10790835 4.87808885] [7.38445025 6.76191348 6.28004337 6.16243927 6.03699367]\n",
      "[5.75218243 5.72393623 5.40554459 5.09288354 4.95059148] [6.16233127 5.72932209 5.53507719 5.38738843 5.29494381]\n",
      "[5.67994991 5.49025017 5.21978746 4.97519879 4.66632192] [7.54642526 6.21161189 5.77038695 5.18627851 5.04891734]\n",
      "[5.55087763 5.16726891 5.11107507 4.91691052 4.65817648] [6.31684042 5.59722799 5.42973428 5.35064356 5.18799677]\n",
      "[5.48952283 5.1421701  5.0661526  4.79808881 4.60358251] [5.57153487 5.41326236 5.35447055 5.2740152  5.22328534]\n",
      "[5.53818366 5.20397129 5.02296496 4.7856499  4.73556966] [5.85159528 5.57819677 5.46733682 5.3119555  4.98285326]\n",
      "[5.6452485  5.34553688 5.28229347 5.0679769  4.81617249] [6.10027403 5.47288045 5.38013931 5.27639184 5.18968679]\n",
      "[5.49202549 5.03424928 4.83115241 4.71778425 4.44332359] [9.17637015 5.63144379 5.42247451 5.13017319 5.01089373]\n",
      "[5.62268473 5.22490456 5.16684106 4.94589835 4.7937127 ] [8.48434008 8.17279915 6.53264578 5.8677578  5.57132091]\n",
      "[5.55602434 5.23326734 5.14600179 4.98240966 4.88437994] [5.90985173 5.77952319 5.51154881 5.43558413 5.2364205 ]\n",
      "[5.5189435  4.97763549 4.8735953  4.53985646 4.20357055] [7.28492721 5.41160746 5.16373801 4.68554393 4.55230108]\n",
      "[5.35234186 5.17597256 4.92820155 4.52276354 4.30173868] [6.44295054 5.31463687 4.9897219  4.66546958 4.55829432]\n",
      "[5.42489855 5.22769093 5.03945253 4.69842755 4.64903118] [6.18360175 5.53002643 4.94557291 4.71241546 3.89928245]\n",
      "[5.93576155 5.65201779 5.19708989 4.90276051 4.81501379] [6.6490225  6.1714926  5.89466509 5.330113   5.17791338]\n",
      "[5.57098201 5.42118488 5.29652282 5.11391247 4.87700577] [8.06215608 5.63393782 5.40353137 5.19610827 5.06105513]\n",
      "[5.47833951 5.40668932 5.22391285 5.05583475 4.89214379] [11.02592542  9.27377169  9.18762308  8.88748219  7.38932046]\n",
      "[5.37393815 5.26485305 5.06367904 4.82710594 4.47757519] [6.38188633 6.02000224 5.82357691 5.66865155 5.65130059]\n",
      "[5.3947525  5.33367285 4.99578866 4.79981467 4.6720542 ] [5.88704624 5.70366967 5.45359353 5.23587013 5.03776995]\n",
      "[5.37232519 5.1924261  5.09346901 4.93165804 4.77477916] [5.58605677 5.40590574 5.34289744 5.1420266  5.06276432]\n",
      "[5.52528156 5.33678243 5.05923534 4.93768827 4.8438315 ] [7.511657   7.10144937 6.28796868 5.30366863 5.23946266]\n",
      "[5.35735889 5.28134425 5.0709424  4.89082214 4.64697919] [10.12168236  8.0647885   7.09449262  5.24373631  5.18371368]\n",
      "[5.52857309 5.21019221 4.94715222 4.77606833 4.669185  ] [8.12150717 5.3060991  5.25334343 5.02142888 4.98311085]\n",
      "[5.45161179 5.28713076 5.04616725 4.97123003 4.86911915] [6.16283202 5.73653064 5.4819326  5.28475461 5.19446764]\n",
      "[5.36479657 5.13693291 5.04012579 4.80315085 4.65929414] [6.69763139 6.37551275 6.35927451 5.91392963 5.44209301]\n",
      "[5.56354998 5.19695218 5.04108055 4.99332985 4.7964638 ] [6.65329846 6.47390863 6.18307172 6.13417583 5.8363516 ]\n",
      "[6.38276255 4.98034973 4.82018292 4.63956925 4.28761234] [5.28253455 5.21792411 4.93673844 4.76573085 4.46523478]\n"
     ]
    }
   ],
   "source": [
    "gt_path = '/var/www/html/donglai/abhi/gt_pyr/'\n",
    "pd_path = '/var/www/html/abhi/pyr_summary/networkx/{}_networkx.obj'\n",
    "\n",
    "graph_ids, similarities_processed = PyramidAblation(gt_path, pd_path)"
   ]
  },
  {
   "cell_type": "code",
   "execution_count": 32,
   "metadata": {},
   "outputs": [
    {
     "name": "stdout",
     "output_type": "stream",
     "text": [
      "[5.52963389 5.14166186 4.98038597 4.85168469 4.73622854] [5.7352531  5.6206123  5.54320828 5.49123335 5.48199151]\n",
      "[5.42036712 5.31914394 5.11476641 4.90501914 4.79682268] [5.76113521 5.53370288 5.48075901 5.43058624 5.28091909]\n",
      "[5.47411521 5.34839429 5.06077354 4.95574526 4.7646032 ] [7.18648739 6.34508054 6.29365213 6.26294756 6.25418217]\n",
      "[5.30565896 5.1496307  4.63406474 4.45518052 3.98641814] [5.64108823 5.57711389 5.55467913 5.42898995 5.21540689]\n",
      "[5.86242875 5.3845997  5.30975063 5.10790835 4.87808885] [6.49295549 6.41736623 6.35820044 5.70493726 5.6892268 ]\n",
      "[5.75218243 5.72393623 5.40554459 5.09288354 4.95059148] [5.59651464 5.58266033 5.54681089 5.52406999 5.51501098]\n",
      "[5.67994991 5.49025017 5.21978746 4.97519879 4.66632192] [5.60924856 5.58624238 5.55818841 5.54019408 5.53799136]\n",
      "[5.55087763 5.16726891 5.11107507 4.91691052 4.65817648] [5.781034   5.76348388 5.72858334 5.64230497 5.57340979]\n",
      "[5.48952283 5.1421701  5.0661526  4.79808881 4.60358251] [5.99077627 5.70797987 5.62436337 5.5974796  5.5764636 ]\n",
      "[5.53818366 5.20397129 5.02296496 4.7856499  4.73556966] [5.67983859 5.6371741  5.61469184 5.58834191 5.54584353]\n",
      "[5.6452485  5.34553688 5.28229347 5.0679769  4.81617249] [6.32312967 5.62237642 5.61431125 5.58710007 5.58401331]\n",
      "[5.49202549 5.03424928 4.83115241 4.71778425 4.44332359] [5.98919228 5.6561562  5.58975119 5.47419672 5.32955809]\n",
      "[5.62268473 5.22490456 5.16684106 4.94589835 4.7937127 ] [5.62474503 5.59606974 5.59438899 5.58361822 5.57993708]\n",
      "[5.55602434 5.23326734 5.14600179 4.98240966 4.88437994] [6.31050528 5.6373754  5.62240423 5.62151718 5.60364626]\n",
      "[5.5189435  4.97763549 4.8735953  4.53985646 4.20357055] [5.94601994 5.51759229 5.48132368 5.4336042  5.40668141]\n",
      "[5.35234186 5.17597256 4.92820155 4.52276354 4.30173868] [5.66749814 5.62567816 5.61425753 5.56340415 5.50279305]\n",
      "[5.42489855 5.22769093 5.03945253 4.69842755 4.64903118] [5.66639902 5.34775065 5.24132875 5.20899245 5.19082499]\n",
      "[5.93576155 5.65201779 5.19708989 4.90276051 4.81501379] [5.68482177 5.62787393 5.61248906 5.59760728 5.59203489]\n",
      "[5.57098201 5.42118488 5.29652282 5.11391247 4.87700577] [5.64720822 5.62553581 5.57085855 5.52669075 5.38326193]\n",
      "[5.47833951 5.40668932 5.22391285 5.05583475 4.89214379] [6.51022873 6.45956709 6.26294278 5.94485983 5.66340999]\n",
      "[5.37393815 5.26485305 5.06367904 4.82710594 4.47757519] [7.26647282 5.9611759  5.72406567 5.7087412  5.68916305]\n",
      "[5.3947525  5.33367285 4.99578866 4.79981467 4.6720542 ] [6.4876814  5.6435041  5.58215753 5.55691327 5.52485907]\n",
      "[5.37232519 5.1924261  5.09346901 4.93165804 4.77477916] [6.32443598 5.70315106 5.63953363 5.60176084 5.57923049]\n",
      "[5.52528156 5.33678243 5.05923534 4.93768827 4.8438315 ] [5.84678784 5.72327592 5.61048634 5.59213165 5.55032812]\n",
      "[5.35735889 5.28134425 5.0709424  4.89082214 4.64697919] [6.16859987 6.11102154 5.72508254 5.65605421 5.63226649]\n",
      "[5.52857309 5.21019221 4.94715222 4.77606833 4.669185  ] [5.81722996 5.57447361 5.53299427 5.48741197 5.48382877]\n",
      "[5.45161179 5.28713076 5.04616725 4.97123003 4.86911915] [5.64880243 5.63569772 5.63498627 5.59486871 5.54933926]\n",
      "[5.36479657 5.13693291 5.04012579 4.80315085 4.65929414] [5.73012841 5.64291052 5.62891062 5.60134288 5.58090517]\n",
      "[5.56354998 5.19695218 5.04108055 4.99332985 4.7964638 ] [7.22114949 5.85975467 5.83795112 5.81797573 5.80564681]\n",
      "[6.38276255 4.98034973 4.82018292 4.63956925 4.28761234] [5.64606471 5.62786025 5.62547621 5.57546408 5.53609312]\n"
     ]
    }
   ],
   "source": [
    "gt_path = '/var/www/html/donglai/abhi/gt_pyr/'\n",
    "pd_path = '/var/www/html/abhi/pyr_summary/networkx_no_processing/{}_networkx.obj'\n",
    "\n",
    "graph_ids, similarities_no_process = PyramidAblation(gt_path, pd_path)"
   ]
  },
  {
   "cell_type": "code",
   "execution_count": 78,
   "metadata": {},
   "outputs": [
    {
     "data": {
      "image/png": "[encoded data removed]",
      "text/plain": [
       "<Figure size 648x432 with 1 Axes>"
      ]
     },
     "metadata": {
      "needs_background": "light"
     },
     "output_type": "display_data"
    }
   ],
   "source": [
    "from matplotlib.ticker import MaxNLocator\n",
    "\n",
    "fig, ax = plt.subplots()\n",
    "bins = np.linspace(0.7,1,40)\n",
    "_ = ax.hist(similarities_processed, bins=bins, color='red', edgecolor='black', \\\n",
    "            linewidth=1.2, alpha=0.5, label='With Pruning')\n",
    "# # _ = ax[0].set_title('Reduced Graph with Pruning')\n",
    "_ = ax.hist(similarities_no_process, bins=bins, color='blue', edgecolor='black', \\\n",
    "            linewidth=1.2, alpha=0.5, label='Without Pruning')\n",
    "_ = ax.legend(loc='best', fontsize=14)\n",
    "# _ = ax[1].set_title('Reduced Graph without Pruning')\n",
    "# x = np.arange(len(graph_ids))\n",
    "# thick = 0.5\n",
    "# _ = ax.bar(x-thick, similarities_processed, width=thick, label='With Pruning')\n",
    "# _ = ax.bar(x, similarities_no_process, width=thick,label='Without Pruning')\n",
    "\n",
    "# _ = ax.set_ylim(0.6, 1.0)\n",
    "# for i in [0,1]:\n",
    "# #     _ = ax[i].set_ylim(0, 15)\n",
    "# #     _ = ax[i].set_xlim(0.75, 1.0)\n",
    "_ = ax.set_xlabel('Cosine Similarity', fontsize=12, fontweight='bold')\n",
    "_ = ax.set_ylabel('Count', fontsize=12, fontweight='bold')\n",
    "ax.yaxis.set_major_locator(MaxNLocator(integer=True))\n",
    "fig.suptitle('Cosine Similarity of Laplacian Eigenvalues for \\n Pyramidal Cells: Ground Truth vs. Reduced Graph', \\\n",
    "             fontweight='bold', fontsize=16)\n",
    "fig.set_size_inches(9, 6)\n",
    "fig.savefig('pyramid_ablation.png')"
   ]
  },
  {
   "cell_type": "code",
   "execution_count": null,
   "metadata": {},
   "outputs": [],
   "source": []
  }
 ],
 "metadata": {
  "kernelspec": {
   "display_name": "Python3 (trimesh)",
   "language": "python",
   "name": "trimesh"
  },
  "language_info": {
   "codemirror_mode": {
    "name": "ipython",
    "version": 3
   },
   "file_extension": ".py",
   "mimetype": "text/x-python",
   "name": "python",
   "nbconvert_exporter": "python",
   "pygments_lexer": "ipython3",
   "version": "3.6.8"
  }
 },
 "nbformat": 4,
 "nbformat_minor": 2
}
