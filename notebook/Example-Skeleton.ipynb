{
 "cells": [
  {
   "cell_type": "markdown",
   "metadata": {},
   "source": [
    "### Demo for extract_skeleton.py \n",
    "The extract_skeleton.py file contains code for extracting skeleton from voxel representation of an organelle (stored as a .h5 file), and creating a plott of that skeleton embedded into an HTML file."
   ]
  },
  {
   "cell_type": "code",
   "execution_count": 31,
   "metadata": {},
   "outputs": [
    {
     "name": "stdout",
     "output_type": "stream",
     "text": [
      "The autoreload extension is already loaded. To reload it, use:\n",
      "  %reload_ext autoreload\n"
     ]
    }
   ],
   "source": [
    "import importlib\n",
    "skl = importlib.import_module('extract_skeleton')\n",
    "\n",
    "%load_ext autoreload\n",
    "%autoreload 2"
   ]
  },
  {
   "cell_type": "markdown",
   "metadata": {},
   "source": [
    "### Print the docstring of the CreateSkeleton function"
   ]
  },
  {
   "cell_type": "code",
   "execution_count": 32,
   "metadata": {},
   "outputs": [
    {
     "name": "stdout",
     "output_type": "stream",
     "text": [
      "\n",
      "    This function uses Ibex to exctract the skeleton out of a voxel representation (in\n",
      "    a .h5 file). It optionally stores the skeleton plot as an html file.\n",
      "\n",
      "    ====================\n",
      "    INPUTS:\n",
      "    ====================\n",
      "    voxel_dir: String, the directory which stores the h5 files (each h5 file represents\n",
      "                one organelle). An example of the structure of this voxel_dir is:\n",
      "                voxel_dir\n",
      "                |\n",
      "                |__1/seg.h5\n",
      "                |\n",
      "                |__7/seg.h5\n",
      "\n",
      "    seg_id:    Integer, representing the ID of the organelle inside the voxel_dir. For\n",
      "                example, in the directory structure shown above, 1 and 7 are seg_ids.\n",
      "\n",
      "    skel_dir:   String, the directory where plot of the extracted skeleton is stored as\n",
      "                an HTML file.\n",
      "\n",
      "    in_res:     Tuple of three integers, representing the resolution of the input .h5.\n",
      "                Default value is (30, 48, 48)\n",
      "\n",
      "    out_res:    Tuple of three integers, representing the resolution we want to use for\n",
      "                extraction of the skeleton. This is used only if you want to downsample.\n",
      "\n",
      "    plot_type: String, 'nodes' or 'edges'. If it is 'nodes' then only nodes of the skeleton\n",
      "                are plotted. If 'edges' then edges between nodes are also plotted. This can\n",
      "                take a lot of time in the 'edges' mode if the skeleton is large. Default\n",
      "                value is None in which case nothing is plotted.\n",
      "\n",
      "    return_dt: Boolean, returns distance transform if True.\n",
      "\n",
      "\n",
      "    ====================\n",
      "    OUTPUTS:\n",
      "    ====================\n",
      "    skeleton:   A skeleton object.\n",
      "    \n",
      "    dt:         Distance transform, only returned if return_dt is True.\n",
      "\n",
      "    \n"
     ]
    }
   ],
   "source": [
    "print(skl.CreateSkeleton.__doc__)"
   ]
  },
  {
   "cell_type": "markdown",
   "metadata": {},
   "source": [
    "# Use the CreateSkeleton function to extract and display skeleton"
   ]
  },
  {
   "cell_type": "code",
   "execution_count": 36,
   "metadata": {},
   "outputs": [],
   "source": [
    "# Config\n",
    "voxel_dir = '/home/abhimanyu/skeletonize/ibex/example-data/voxel_dir'\n",
    "seg_id = 102\n",
    "skel_dir = '/home/abhimanyu/skeletonize/ibex/example-data/skel_dir'\n",
    "plot_type = 'edges'\n",
    "return_dt = False"
   ]
  },
  {
   "cell_type": "code",
   "execution_count": 37,
   "metadata": {},
   "outputs": [
    {
     "name": "stdout",
     "output_type": "stream",
     "text": [
      "Downsampling to resolution (30, 48, 48) in 0.00108909606934 seconds\n",
      "Topological thinning time for (30, 48, 48): 0.0113120079041\n",
      "Endpoint vector time for (30, 48, 48): 0.000765085220337\n",
      "Edge finding time for (30, 48, 48): 0.000982999801636\n",
      "Read skeletons in 0.001s\n",
      "Plot created and saved in 1.605s\n"
     ]
    }
   ],
   "source": [
    "extracted_skel = skl.CreateSkeleton(voxel_dir=voxel_dir, \n",
    "                                seg_id=seg_id, \n",
    "                                skel_dir=skel_dir, \n",
    "                                plot_type=plot_type, \n",
    "                                return_dt=return_dt);"
   ]
  },
  {
   "cell_type": "code",
   "execution_count": 38,
   "metadata": {},
   "outputs": [
    {
     "name": "stdout",
     "output_type": "stream",
     "text": [
      "The resulting HTML file can be found here:\n",
      "/home/abhimanyu/skeletonize/ibex/example-data/skel_dir/skel102.html\n"
     ]
    }
   ],
   "source": [
    "print('The resulting HTML file can be found here:')\n",
    "print(os.path.join(skel_dir, 'skel{}.html'.format(seg_id)))"
   ]
  }
 ],
 "metadata": {
  "kernelspec": {
   "display_name": "ibex",
   "language": "python",
   "name": "ibex"
  },
  "language_info": {
   "codemirror_mode": {
    "name": "ipython",
    "version": 2
   },
   "file_extension": ".py",
   "mimetype": "text/x-python",
   "name": "python",
   "nbconvert_exporter": "python",
   "pygments_lexer": "ipython2",
   "version": "2.7.15"
  }
 },
 "nbformat": 4,
 "nbformat_minor": 2
}
